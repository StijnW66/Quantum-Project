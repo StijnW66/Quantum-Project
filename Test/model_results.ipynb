{
 "cells": [
  {
   "cell_type": "code",
   "execution_count": 1,
   "metadata": {
    "collapsed": true
   },
   "outputs": [],
   "source": [
    "from src.quantum.shor_algorithm import shor_algorithm"
   ]
  },
  {
   "cell_type": "code",
   "execution_count": 3,
   "outputs": [
    {
     "name": "stdout",
     "output_type": "stream",
     "text": [
      "Shor's Algorithm for 15: Attempt 1\n",
      "\tChosen a: 13\n",
      "\tPeriod Finding Routine: Attempt 1\n",
      "\t\tExperiment of 1024 shots finished.\n",
      "\t\tPeriod finding routine successful. Phase estimation number 5 yielded correct answer.\n",
      "\tFound period 'r': 4\n",
      "\tPeriod is even, proceeding with algorithm.\n",
      "Found factors: (5, 3)\n"
     ]
    }
   ],
   "source": [
    "# Case: N = pq\n",
    "print(f\"Found factors: {shor_algorithm(15)}\")"
   ],
   "metadata": {
    "collapsed": false,
    "pycharm": {
     "name": "#%%\n"
    }
   }
  },
  {
   "cell_type": "code",
   "execution_count": 4,
   "outputs": [
    {
     "name": "stdout",
     "output_type": "stream",
     "text": [
      "Shor's Algorithm for 8: Attempt 1\n",
      "\tThe given number 8 can be expressed as 2^3. Terminating the algorithm.\n",
      "\n",
      "Found factors: (2, 4)\n"
     ]
    }
   ],
   "source": [
    "# Case: N = p^q\n",
    "print(f\"Found factors: {shor_algorithm(8)}\")"
   ],
   "metadata": {
    "collapsed": false,
    "pycharm": {
     "name": "#%%\n"
    }
   }
  },
  {
   "cell_type": "code",
   "execution_count": 5,
   "outputs": [
    {
     "name": "stdout",
     "output_type": "stream",
     "text": [
      "Shor's Algorithm for 11: Attempt 1\n",
      "\tChosen a: 7\n",
      "\tPeriod Finding Routine: Attempt 1\n",
      "\t\tExperiment of 1024 shots finished.\n",
      "\t\tPeriod finding routine successful. Phase estimation number 8 yielded correct answer.\n",
      "\tFound period 'r': 10\n",
      "\tPeriod is even, proceeding with algorithm.\n",
      "\t7^(5) mod 11 == -1, repeating the algorithm.\n",
      "\n",
      "Shor's Algorithm for 11: Attempt 2\n",
      "\tChosen a: 3\n",
      "\tPeriod Finding Routine: Attempt 1\n",
      "\t\tExperiment of 1024 shots finished.\n",
      "\t\tPeriod finding routine successful. Phase estimation number 3 yielded correct answer.\n",
      "\tFound period 'r': 5\n",
      "\tPeriod is not even, repeating the algorithm.\n",
      "\n",
      "Shor's Algorithm for 11: Attempt 3\n",
      "\tChosen a: 4\n",
      "\tPeriod Finding Routine: Attempt 1\n",
      "\t\tExperiment of 1024 shots finished.\n",
      "\t\tPeriod finding routine successful. Phase estimation number 4 yielded correct answer.\n",
      "\tFound period 'r': 5\n",
      "\tPeriod is not even, repeating the algorithm.\n",
      "\n",
      "Shor's Algorithm for 11: Attempt 4\n",
      "\tChosen a: 2\n",
      "\tPeriod Finding Routine: Attempt 1\n",
      "\t\tExperiment of 1024 shots finished.\n",
      "\t\tPeriod finding routine successful. Phase estimation number 5 yielded correct answer.\n",
      "\tFound period 'r': 10\n",
      "\tPeriod is even, proceeding with algorithm.\n",
      "\t2^(5) mod 11 == -1, repeating the algorithm.\n",
      "\n",
      "Shor's Algorithm for 11: Attempt 5\n",
      "\tChosen a: 9\n",
      "\tPeriod Finding Routine: Attempt 1\n",
      "\t\tExperiment of 1024 shots finished.\n",
      "\t\tPeriod finding routine successful. Phase estimation number 2 yielded correct answer.\n",
      "\tFound period 'r': 5\n",
      "\tPeriod is not even, repeating the algorithm.\n",
      "\n",
      "Shor's Algorithm for 11: Attempt 6\n",
      "\tChosen a: 6\n",
      "\tPeriod Finding Routine: Attempt 1\n",
      "\t\tExperiment of 1024 shots finished.\n",
      "\t\tPeriod finding routine successful. Phase estimation number 7 yielded correct answer.\n",
      "\tFound period 'r': 10\n",
      "\tPeriod is even, proceeding with algorithm.\n",
      "\t6^(5) mod 11 == -1, repeating the algorithm.\n",
      "\n",
      "Shor's Algorithm for 11: Attempt 7\n",
      "\tChosen a: 5\n",
      "\tPeriod Finding Routine: Attempt 1\n",
      "\t\tExperiment of 1024 shots finished.\n",
      "\t\tPeriod finding routine successful. Phase estimation number 3 yielded correct answer.\n",
      "\tFound period 'r': 5\n",
      "\tPeriod is not even, repeating the algorithm.\n",
      "\n",
      "Shor's Algorithm for 11: Attempt 8\n",
      "\tChosen a: 10\n",
      "\tPeriod Finding Routine: Attempt 1\n",
      "\t\tExperiment of 1024 shots finished.\n",
      "\t\tPeriod finding routine successful. Phase estimation number 2 yielded correct answer.\n",
      "\tFound period 'r': 2\n",
      "\tPeriod is even, proceeding with algorithm.\n",
      "\t10^(1) mod 11 == -1, repeating the algorithm.\n",
      "\n",
      "Shor's Algorithm for 11: Attempt 9\n",
      "\tChosen a: 8\n",
      "\tPeriod Finding Routine: Attempt 1\n",
      "\t\tExperiment of 1024 shots finished.\n",
      "\t\tPeriod finding routine successful. Phase estimation number 4 yielded correct answer.\n",
      "\tFound period 'r': 10\n",
      "\tPeriod is even, proceeding with algorithm.\n",
      "\t8^(5) mod 11 == -1, repeating the algorithm.\n",
      "\n",
      "Shor's Algorithm for 11: Attempt 10\n",
      "\t Based on past attempts, it seems that given number 11 is prime. Terminating the algorithm.\n",
      "\n",
      "Found factors: (1, 11)\n"
     ]
    }
   ],
   "source": [
    "# Case: N is prime\n",
    "print(f\"Found factors: {shor_algorithm(11)}\")"
   ],
   "metadata": {
    "collapsed": false,
    "pycharm": {
     "name": "#%%\n"
    }
   }
  },
  {
   "cell_type": "code",
   "execution_count": 6,
   "outputs": [
    {
     "name": "stdout",
     "output_type": "stream",
     "text": [
      "Shor's Algorithm for 30: Attempt 1\n",
      "\tChosen a: 13\n",
      "\tPeriod Finding Routine: Attempt 1\n",
      "\t\tExperiment of 1024 shots finished.\n",
      "\t\tPeriod finding routine successful. Phase estimation number 4 yielded correct answer.\n",
      "\tFound period 'r': 4\n",
      "\tPeriod is even, proceeding with algorithm.\n",
      "Found factors: (10, 3)\n"
     ]
    }
   ],
   "source": [
    "# Case: N has many factors\n",
    "print(f\"Found factors: {shor_algorithm(30)}\")"
   ],
   "metadata": {
    "collapsed": false,
    "pycharm": {
     "name": "#%%\n"
    }
   }
  }
 ],
 "metadata": {
  "kernelspec": {
   "display_name": "Python 3",
   "language": "python",
   "name": "python3"
  },
  "language_info": {
   "codemirror_mode": {
    "name": "ipython",
    "version": 2
   },
   "file_extension": ".py",
   "mimetype": "text/x-python",
   "name": "python",
   "nbconvert_exporter": "python",
   "pygments_lexer": "ipython2",
   "version": "2.7.6"
  }
 },
 "nbformat": 4,
 "nbformat_minor": 0
}